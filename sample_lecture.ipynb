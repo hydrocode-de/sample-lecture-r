{
 "cells": [
  {
   "cell_type": "markdown",
   "metadata": {
    "slideshow": {
     "slide_type": "slide"
    }
   },
   "source": [
    "# Sample Lecture - R"
   ]
  },
  {
   "cell_type": "markdown",
   "metadata": {
    "slideshow": {
     "slide_type": "fragment"
    }
   },
   "source": [
    "<a href=\"https://hydrocode.de\" target=\"_blank\">\n",
    "<img src=\"https://firebasestorage.googleapis.com/v0/b/hydrocode-website.appspot.com/o/public%2Fhydrocode_brand.png?alt=media\"  style=\"height: 60px; float: left\"/></a>"
   ]
  },
  {
   "cell_type": "markdown",
   "metadata": {
    "slideshow": {
     "slide_type": "slide"
    }
   },
   "source": [
    "## Overview"
   ]
  },
  {
   "cell_type": "markdown",
   "metadata": {
    "slideshow": {
     "slide_type": "fragment"
    }
   },
   "source": [
    "This is a short and quick presentation of the available elements, which can be used to build up your lecture notes.\n",
    "\n",
    "The big advantage is, that you have to build the document only once. You can include code, models, algorithms you are \n",
    "currently working on. Enrich them with notes and explanations for your students. \n",
    "\n",
    "Once, it's time for lectures you just need to mark which elements should be included into the presentation and commit the \n",
    "changes to github. [Notebook-Classroom](https://github.com/hydrocode-de/notebook-classroom) will take care of the rest."
   ]
  },
  {
   "cell_type": "markdown",
   "metadata": {
    "slideshow": {
     "slide_type": "skip"
    }
   },
   "source": [
    "You will notice that this cell will be ignored in the presentation, because it's slide type was set to ``skip``. \n",
    "The next cell will import some important packages. If you use interactive plots, like Bokeh or plotly, you generally need to mark\n",
    "these cells as ``notes``. The difference is that these cells will not be shown, but *included* (as notes in presentation mode), whereas \n",
    "``skip`` cells will be *removed*."
   ]
  },
  {
   "cell_type": "code",
   "execution_count": 2,
   "metadata": {
    "slideshow": {
     "slide_type": "notes"
    }
   },
   "outputs": [
    {
     "name": "stderr",
     "output_type": "stream",
     "text": [
      "Registered S3 methods overwritten by 'ggplot2':\n",
      "  method         from \n",
      "  [.quosures     rlang\n",
      "  c.quosures     rlang\n",
      "  print.quosures rlang\n"
     ]
    }
   ],
   "source": [
    "library(ggplot2)\n",
    "library(gridExtra)\n",
    "library(vembedr)"
   ]
  },
  {
   "cell_type": "markdown",
   "metadata": {
    "slideshow": {
     "slide_type": "slide"
    }
   },
   "source": [
    "## Text Formatting"
   ]
  },
  {
   "cell_type": "markdown",
   "metadata": {
    "slideshow": {
     "slide_type": "subslide"
    }
   },
   "source": [
    "With markdown its **easy** to format text like *italics* or _**bold and italics**_.\n",
    "\n",
    "By leaving a blank line, a new paragraph is started. Some inline $math^3_{i,j}$ can be added easily. Of course it's also possible to put formulas into their own line.\n",
    "$$E=mc^2$$\n",
    "See the source for this formatted cell below:"
   ]
  },
  {
   "cell_type": "markdown",
   "metadata": {
    "slideshow": {
     "slide_type": "fragment"
    }
   },
   "source": [
    "```\n",
    "With markdown its **easy** to format text like *italics* or _**bold and italics**_.\n",
    "\n",
    "By leaving a blank line, a new paragraph is started. Some inline $math^3_{i,j}$ can be added easily. Of course it's also possible to put formulas into their own line.\n",
    "$$E=mc^2$$\n",
    "See the source for this formatted cell below:\n",
    "```"
   ]
  },
  {
   "cell_type": "markdown",
   "metadata": {
    "slideshow": {
     "slide_type": "subslide"
    }
   },
   "source": [
    "## Code"
   ]
  },
  {
   "cell_type": "markdown",
   "metadata": {
    "slideshow": {
     "slide_type": "subslide"
    }
   },
   "source": [
    "It is also possible to include code that is not meant to be run (which would go into a code cell then). Most programming languages will be syntax-highlighed when included.\n",
    "\n",
    "```python\n",
    "print('Like Python')\n",
    "```\n",
    "\n",
    "```r\n",
    "v <- \"But also R\"\n",
    "```\n",
    "\n",
    "```c++\n",
    "cout << sprintf(buffer, \"C++ is also %s\", \"known\") << endl;\n",
    "```"
   ]
  },
  {
   "cell_type": "markdown",
   "metadata": {
    "slideshow": {
     "slide_type": "subslide"
    }
   },
   "source": [
    "### More, More, More\n",
    "\n",
    "of course there is way more. You will find some pretty good cheat-sheets out there: e.g. [this one](https://github.com/adam-p/markdown-here/wiki/Markdown-Cheatsheet)"
   ]
  },
  {
   "cell_type": "markdown",
   "metadata": {
    "slideshow": {
     "slide_type": "slide"
    }
   },
   "source": [
    "## Running Code"
   ]
  },
  {
   "cell_type": "markdown",
   "metadata": {
    "slideshow": {
     "slide_type": "subslide"
    }
   },
   "source": [
    "The main advantage of using jupyter notebooks is obviously the ability to run code. We can perform calculations and explore the result interactively with the students. These cells even make it possible for students, who have never programed to change existing code with ease."
   ]
  },
  {
   "cell_type": "markdown",
   "metadata": {
    "slideshow": {
     "slide_type": "fragment"
    }
   },
   "source": [
    "We will generate some $(x, y)$ tuples with $0 < x < 2\\pi$ and \n",
    "$$ y = sin(x) + r $$\n",
    "where $r$ is a random number $-0.1 < r < 0.1$"
   ]
  },
  {
   "cell_type": "code",
   "execution_count": 3,
   "metadata": {
    "slideshow": {
     "slide_type": "fragment"
    }
   },
   "outputs": [],
   "source": [
    "# generate some data\n",
    "x <- seq(0, 2*pi, length.out=100)\n",
    "\n",
    "# sine\n",
    "y <- sin(x) + runif(100, -.1, .1)"
   ]
  },
  {
   "cell_type": "markdown",
   "metadata": {
    "slideshow": {
     "slide_type": "subslide"
    }
   },
   "source": [
    "The notebook will render any output to StdOut and StdErr."
   ]
  },
  {
   "cell_type": "code",
   "execution_count": 4,
   "metadata": {
    "slideshow": {
     "slide_type": "fragment"
    }
   },
   "outputs": [
    {
     "data": {
      "text/html": [
       "<ol class=list-inline>\n",
       "\t<li>0.0738925523124635</li>\n",
       "\t<li>0.0268145549365031</li>\n",
       "\t<li>0.145166441011161</li>\n",
       "\t<li>0.129474043020808</li>\n",
       "\t<li>0.25405859085707</li>\n",
       "\t<li>0.368993065490665</li>\n",
       "\t<li>0.439491225921585</li>\n",
       "\t<li>0.340062956328082</li>\n",
       "\t<li>0.474784488457594</li>\n",
       "\t<li>0.630492288166307</li>\n",
       "\t<li>0.598603576661267</li>\n",
       "\t<li>0.607415629662038</li>\n",
       "\t<li>0.717659904521815</li>\n",
       "\t<li>0.728959089842827</li>\n",
       "\t<li>0.706884505189752</li>\n",
       "\t<li>0.844385616798945</li>\n",
       "\t<li>0.793192832687102</li>\n",
       "\t<li>0.810221270415133</li>\n",
       "\t<li>0.935741273835972</li>\n",
       "\t<li>0.941247470273406</li>\n",
       "\t<li>1.05252211356521</li>\n",
       "\t<li>1.02970304205643</li>\n",
       "\t<li>1.02449571844998</li>\n",
       "\t<li>0.978972237037482</li>\n",
       "\t<li>1.06425957908704</li>\n",
       "\t<li>0.954611431173008</li>\n",
       "\t<li>0.906175190530484</li>\n",
       "\t<li>1.05127307552802</li>\n",
       "\t<li>1.04314039166488</li>\n",
       "\t<li>0.991237801015609</li>\n",
       "\t<li>0.848597950784658</li>\n",
       "\t<li>0.913517737878566</li>\n",
       "\t<li>0.889211215311869</li>\n",
       "\t<li>0.85146105083622</li>\n",
       "\t<li>0.76934757449008</li>\n",
       "\t<li>0.861808547397305</li>\n",
       "\t<li>0.693257882450116</li>\n",
       "\t<li>0.724045440117371</li>\n",
       "\t<li>0.669449351868611</li>\n",
       "\t<li>0.523721037233717</li>\n",
       "\t<li>0.641522304193306</li>\n",
       "\t<li>0.61307751571349</li>\n",
       "\t<li>0.360993882356924</li>\n",
       "\t<li>0.359302954082185</li>\n",
       "\t<li>0.284696914385301</li>\n",
       "\t<li>0.293411415780988</li>\n",
       "\t<li>0.156700815978117</li>\n",
       "\t<li>0.0809591819597138</li>\n",
       "\t<li>0.0126528625559582</li>\n",
       "\t<li>-0.0163126270417442</li>\n",
       "\t<li>0.0482510079294759</li>\n",
       "\t<li>-0.0555705879066661</li>\n",
       "\t<li>-0.124314262584756</li>\n",
       "\t<li>-0.164449798893772</li>\n",
       "\t<li>-0.207256349654031</li>\n",
       "\t<li>-0.277658201045585</li>\n",
       "\t<li>-0.429047574833775</li>\n",
       "\t<li>-0.414342626272482</li>\n",
       "\t<li>-0.504946652264885</li>\n",
       "\t<li>-0.65375404175483</li>\n",
       "\t<li>-0.633590832246936</li>\n",
       "\t<li>-0.709490056243744</li>\n",
       "\t<li>-0.752605748298121</li>\n",
       "\t<li>-0.844793410230768</li>\n",
       "\t<li>-0.773069614657362</li>\n",
       "\t<li>-0.80137517896756</li>\n",
       "\t<li>-0.934030973156765</li>\n",
       "\t<li>-0.808722531097218</li>\n",
       "\t<li>-0.856280940143471</li>\n",
       "\t<li>-0.965394343638961</li>\n",
       "\t<li>-0.932222009804332</li>\n",
       "\t<li>-0.893857116330712</li>\n",
       "\t<li>-0.971642716358921</li>\n",
       "\t<li>-1.06723937466159</li>\n",
       "\t<li>-1.0019808364743</li>\n",
       "\t<li>-0.954792029278716</li>\n",
       "\t<li>-1.00888800527154</li>\n",
       "\t<li>-0.905518158905832</li>\n",
       "\t<li>-1.05813407451475</li>\n",
       "\t<li>-1.00674397714422</li>\n",
       "\t<li>-0.838683890706629</li>\n",
       "\t<li>-0.9097942418053</li>\n",
       "\t<li>-0.965498892859688</li>\n",
       "\t<li>-0.852020061577834</li>\n",
       "\t<li>-0.801724231327944</li>\n",
       "\t<li>-0.68969019386897</li>\n",
       "\t<li>-0.655391346941903</li>\n",
       "\t<li>-0.711853583848961</li>\n",
       "\t<li>-0.660359811847494</li>\n",
       "\t<li>-0.53111623060628</li>\n",
       "\t<li>-0.499580501172342</li>\n",
       "\t<li>-0.492636911052618</li>\n",
       "\t<li>-0.349485384768385</li>\n",
       "\t<li>-0.405313900022804</li>\n",
       "\t<li>-0.407568368253576</li>\n",
       "\t<li>-0.256958040315416</li>\n",
       "\t<li>-0.140934329120271</li>\n",
       "\t<li>-0.126006900942803</li>\n",
       "\t<li>0.0171708672053469</li>\n",
       "\t<li>-0.0913833334576341</li>\n",
       "</ol>\n"
      ],
      "text/latex": [
       "\\begin{enumerate*}\n",
       "\\item 0.0738925523124635\n",
       "\\item 0.0268145549365031\n",
       "\\item 0.145166441011161\n",
       "\\item 0.129474043020808\n",
       "\\item 0.25405859085707\n",
       "\\item 0.368993065490665\n",
       "\\item 0.439491225921585\n",
       "\\item 0.340062956328082\n",
       "\\item 0.474784488457594\n",
       "\\item 0.630492288166307\n",
       "\\item 0.598603576661267\n",
       "\\item 0.607415629662038\n",
       "\\item 0.717659904521815\n",
       "\\item 0.728959089842827\n",
       "\\item 0.706884505189752\n",
       "\\item 0.844385616798945\n",
       "\\item 0.793192832687102\n",
       "\\item 0.810221270415133\n",
       "\\item 0.935741273835972\n",
       "\\item 0.941247470273406\n",
       "\\item 1.05252211356521\n",
       "\\item 1.02970304205643\n",
       "\\item 1.02449571844998\n",
       "\\item 0.978972237037482\n",
       "\\item 1.06425957908704\n",
       "\\item 0.954611431173008\n",
       "\\item 0.906175190530484\n",
       "\\item 1.05127307552802\n",
       "\\item 1.04314039166488\n",
       "\\item 0.991237801015609\n",
       "\\item 0.848597950784658\n",
       "\\item 0.913517737878566\n",
       "\\item 0.889211215311869\n",
       "\\item 0.85146105083622\n",
       "\\item 0.76934757449008\n",
       "\\item 0.861808547397305\n",
       "\\item 0.693257882450116\n",
       "\\item 0.724045440117371\n",
       "\\item 0.669449351868611\n",
       "\\item 0.523721037233717\n",
       "\\item 0.641522304193306\n",
       "\\item 0.61307751571349\n",
       "\\item 0.360993882356924\n",
       "\\item 0.359302954082185\n",
       "\\item 0.284696914385301\n",
       "\\item 0.293411415780988\n",
       "\\item 0.156700815978117\n",
       "\\item 0.0809591819597138\n",
       "\\item 0.0126528625559582\n",
       "\\item -0.0163126270417442\n",
       "\\item 0.0482510079294759\n",
       "\\item -0.0555705879066661\n",
       "\\item -0.124314262584756\n",
       "\\item -0.164449798893772\n",
       "\\item -0.207256349654031\n",
       "\\item -0.277658201045585\n",
       "\\item -0.429047574833775\n",
       "\\item -0.414342626272482\n",
       "\\item -0.504946652264885\n",
       "\\item -0.65375404175483\n",
       "\\item -0.633590832246936\n",
       "\\item -0.709490056243744\n",
       "\\item -0.752605748298121\n",
       "\\item -0.844793410230768\n",
       "\\item -0.773069614657362\n",
       "\\item -0.80137517896756\n",
       "\\item -0.934030973156765\n",
       "\\item -0.808722531097218\n",
       "\\item -0.856280940143471\n",
       "\\item -0.965394343638961\n",
       "\\item -0.932222009804332\n",
       "\\item -0.893857116330712\n",
       "\\item -0.971642716358921\n",
       "\\item -1.06723937466159\n",
       "\\item -1.0019808364743\n",
       "\\item -0.954792029278716\n",
       "\\item -1.00888800527154\n",
       "\\item -0.905518158905832\n",
       "\\item -1.05813407451475\n",
       "\\item -1.00674397714422\n",
       "\\item -0.838683890706629\n",
       "\\item -0.9097942418053\n",
       "\\item -0.965498892859688\n",
       "\\item -0.852020061577834\n",
       "\\item -0.801724231327944\n",
       "\\item -0.68969019386897\n",
       "\\item -0.655391346941903\n",
       "\\item -0.711853583848961\n",
       "\\item -0.660359811847494\n",
       "\\item -0.53111623060628\n",
       "\\item -0.499580501172342\n",
       "\\item -0.492636911052618\n",
       "\\item -0.349485384768385\n",
       "\\item -0.405313900022804\n",
       "\\item -0.407568368253576\n",
       "\\item -0.256958040315416\n",
       "\\item -0.140934329120271\n",
       "\\item -0.126006900942803\n",
       "\\item 0.0171708672053469\n",
       "\\item -0.0913833334576341\n",
       "\\end{enumerate*}\n"
      ],
      "text/markdown": [
       "1. 0.0738925523124635\n",
       "2. 0.0268145549365031\n",
       "3. 0.145166441011161\n",
       "4. 0.129474043020808\n",
       "5. 0.25405859085707\n",
       "6. 0.368993065490665\n",
       "7. 0.439491225921585\n",
       "8. 0.340062956328082\n",
       "9. 0.474784488457594\n",
       "10. 0.630492288166307\n",
       "11. 0.598603576661267\n",
       "12. 0.607415629662038\n",
       "13. 0.717659904521815\n",
       "14. 0.728959089842827\n",
       "15. 0.706884505189752\n",
       "16. 0.844385616798945\n",
       "17. 0.793192832687102\n",
       "18. 0.810221270415133\n",
       "19. 0.935741273835972\n",
       "20. 0.941247470273406\n",
       "21. 1.05252211356521\n",
       "22. 1.02970304205643\n",
       "23. 1.02449571844998\n",
       "24. 0.978972237037482\n",
       "25. 1.06425957908704\n",
       "26. 0.954611431173008\n",
       "27. 0.906175190530484\n",
       "28. 1.05127307552802\n",
       "29. 1.04314039166488\n",
       "30. 0.991237801015609\n",
       "31. 0.848597950784658\n",
       "32. 0.913517737878566\n",
       "33. 0.889211215311869\n",
       "34. 0.85146105083622\n",
       "35. 0.76934757449008\n",
       "36. 0.861808547397305\n",
       "37. 0.693257882450116\n",
       "38. 0.724045440117371\n",
       "39. 0.669449351868611\n",
       "40. 0.523721037233717\n",
       "41. 0.641522304193306\n",
       "42. 0.61307751571349\n",
       "43. 0.360993882356924\n",
       "44. 0.359302954082185\n",
       "45. 0.284696914385301\n",
       "46. 0.293411415780988\n",
       "47. 0.156700815978117\n",
       "48. 0.0809591819597138\n",
       "49. 0.0126528625559582\n",
       "50. -0.0163126270417442\n",
       "51. 0.0482510079294759\n",
       "52. -0.0555705879066661\n",
       "53. -0.124314262584756\n",
       "54. -0.164449798893772\n",
       "55. -0.207256349654031\n",
       "56. -0.277658201045585\n",
       "57. -0.429047574833775\n",
       "58. -0.414342626272482\n",
       "59. -0.504946652264885\n",
       "60. -0.65375404175483\n",
       "61. -0.633590832246936\n",
       "62. -0.709490056243744\n",
       "63. -0.752605748298121\n",
       "64. -0.844793410230768\n",
       "65. -0.773069614657362\n",
       "66. -0.80137517896756\n",
       "67. -0.934030973156765\n",
       "68. -0.808722531097218\n",
       "69. -0.856280940143471\n",
       "70. -0.965394343638961\n",
       "71. -0.932222009804332\n",
       "72. -0.893857116330712\n",
       "73. -0.971642716358921\n",
       "74. -1.06723937466159\n",
       "75. -1.0019808364743\n",
       "76. -0.954792029278716\n",
       "77. -1.00888800527154\n",
       "78. -0.905518158905832\n",
       "79. -1.05813407451475\n",
       "80. -1.00674397714422\n",
       "81. -0.838683890706629\n",
       "82. -0.9097942418053\n",
       "83. -0.965498892859688\n",
       "84. -0.852020061577834\n",
       "85. -0.801724231327944\n",
       "86. -0.68969019386897\n",
       "87. -0.655391346941903\n",
       "88. -0.711853583848961\n",
       "89. -0.660359811847494\n",
       "90. -0.53111623060628\n",
       "91. -0.499580501172342\n",
       "92. -0.492636911052618\n",
       "93. -0.349485384768385\n",
       "94. -0.405313900022804\n",
       "95. -0.407568368253576\n",
       "96. -0.256958040315416\n",
       "97. -0.140934329120271\n",
       "98. -0.126006900942803\n",
       "99. 0.0171708672053469\n",
       "100. -0.0913833334576341\n",
       "\n",
       "\n"
      ],
      "text/plain": [
       "  [1]  0.07389255  0.02681455  0.14516644  0.12947404  0.25405859  0.36899307\n",
       "  [7]  0.43949123  0.34006296  0.47478449  0.63049229  0.59860358  0.60741563\n",
       " [13]  0.71765990  0.72895909  0.70688451  0.84438562  0.79319283  0.81022127\n",
       " [19]  0.93574127  0.94124747  1.05252211  1.02970304  1.02449572  0.97897224\n",
       " [25]  1.06425958  0.95461143  0.90617519  1.05127308  1.04314039  0.99123780\n",
       " [31]  0.84859795  0.91351774  0.88921122  0.85146105  0.76934757  0.86180855\n",
       " [37]  0.69325788  0.72404544  0.66944935  0.52372104  0.64152230  0.61307752\n",
       " [43]  0.36099388  0.35930295  0.28469691  0.29341142  0.15670082  0.08095918\n",
       " [49]  0.01265286 -0.01631263  0.04825101 -0.05557059 -0.12431426 -0.16444980\n",
       " [55] -0.20725635 -0.27765820 -0.42904757 -0.41434263 -0.50494665 -0.65375404\n",
       " [61] -0.63359083 -0.70949006 -0.75260575 -0.84479341 -0.77306961 -0.80137518\n",
       " [67] -0.93403097 -0.80872253 -0.85628094 -0.96539434 -0.93222201 -0.89385712\n",
       " [73] -0.97164272 -1.06723937 -1.00198084 -0.95479203 -1.00888801 -0.90551816\n",
       " [79] -1.05813407 -1.00674398 -0.83868389 -0.90979424 -0.96549889 -0.85202006\n",
       " [85] -0.80172423 -0.68969019 -0.65539135 -0.71185358 -0.66035981 -0.53111623\n",
       " [91] -0.49958050 -0.49263691 -0.34948538 -0.40531390 -0.40756837 -0.25695804\n",
       " [97] -0.14093433 -0.12600690  0.01717087 -0.09138333"
      ]
     },
     "metadata": {},
     "output_type": "display_data"
    }
   ],
   "source": [
    "y"
   ]
  },
  {
   "cell_type": "markdown",
   "metadata": {
    "slideshow": {
     "slide_type": "subslide"
    }
   },
   "source": [
    "## Plotting"
   ]
  },
  {
   "cell_type": "markdown",
   "metadata": {
    "slideshow": {
     "slide_type": "fragment"
    }
   },
   "source": [
    "The maybe coolest feature is the ability to directly inject and show plots.\n",
    "The standard R plotting library is right away available and whenever a \n",
    "plotting object is passed to StdOut, the notebook will render it"
   ]
  },
  {
   "cell_type": "code",
   "execution_count": 11,
   "metadata": {
    "slideshow": {
     "slide_type": "subslide"
    }
   },
   "outputs": [
    {
     "data": {
      "image/png": "[encoded data removed]",
      "text/plain": [
       "plot without title"
      ]
     },
     "metadata": {},
     "output_type": "display_data"
    }
   ],
   "source": [
    "options(repr.plot.width=6, repr.plot.height=4)\n",
    "plot(x, y, type=\"o\")"
   ]
  },
  {
   "cell_type": "code",
   "execution_count": 13,
   "metadata": {
    "slideshow": {
     "slide_type": "subslide"
    }
   },
   "outputs": [],
   "source": [
    "df <- data.frame(x, y, sin(x) - y)\n",
    "names(df) <- c('x', 'y', 'd')\n",
    "p1 <- ggplot(df, aes(x=x, y=y)) + \n",
    "        geom_line(color=\"red\")\n",
    "p2 <- ggplot() + \n",
    "    geom_bar(data=df, aes(x=x, y=d), stat=\"identity\", \n",
    "             fill=\"blue\", show.legend=F, width=0.02)"
   ]
  },
  {
   "cell_type": "code",
   "execution_count": 15,
   "metadata": {
    "slideshow": {
     "slide_type": "subslide"
    }
   },
   "outputs": [
    {
     "data": {
      "image/png": "[encoded data removed]",
      "text/plain": [
       "plot without title"
      ]
     },
     "metadata": {},
     "output_type": "display_data"
    }
   ],
   "source": [
    "options(repr.plot.width=6, repr.plot.height=3)\n",
    "grid.arrange(p1, p2, nrow=2)"
   ]
  },
  {
   "cell_type": "markdown",
   "metadata": {
    "slideshow": {
     "slide_type": "slide"
    }
   },
   "source": [
    "## Videos"
   ]
  },
  {
   "cell_type": "markdown",
   "metadata": {
    "slideshow": {
     "slide_type": "subslide"
    }
   },
   "source": [
    "Sometimes it's very helpful to include a video into a notebook. There are various ways how to do that. \n",
    "As Notebooks are capable of rendering HTML tags, you can include the video using a ordinary ``iframe``. This is however not a good idea, as many Markdown processors will exclude tags like ``<script>``, ``<style>`` or ``<iframe>`` from the markdown source before rendering it.\n",
    "Thus, we need the ``vembedr`` package"
   ]
  },
  {
   "cell_type": "code",
   "execution_count": 7,
   "metadata": {
    "slideshow": {
     "slide_type": "subslide"
    }
   },
   "outputs": [
    {
     "data": {
      "text/html": [
       "<!doctype html>\n",
       "<html>\n",
       "\t<head>\n",
       "\t\t<meta charset=\"utf-8\">\n",
       "\t\t\n",
       "\t</head>\n",
       "\t<body>\n",
       "\t\t<iframe src=\"https://www.youtube.com/embed/XTsaZRKx9UI?start=5\" width=\"840\" height=\"450\" frameborder=\"0\" allowfullscreen=\"\"></iframe>\n",
       "\t</body>\n",
       "</html>\n"
      ],
      "text/plain": [
       "Shiny tags cannot be represented in plain text (need html)"
      ]
     },
     "metadata": {
      "text/html": {
       "isolated": true
      }
     },
     "output_type": "display_data"
    }
   ],
   "source": [
    "embed_youtube('XTsaZRKx9UI', width=840, height=450) %>% use_start_time(\"5s\")"
   ]
  },
  {
   "cell_type": "markdown",
   "metadata": {
    "slideshow": {
     "slide_type": "slide"
    }
   },
   "source": [
    "## Tables"
   ]
  },
  {
   "cell_type": "markdown",
   "metadata": {
    "slideshow": {
     "slide_type": "subslide"
    }
   },
   "source": [
    "There are many way to include tables. You can use Markdown markup to create tables. You can use HTML ``<table>`` tags. This is both fine, but a  lot of work if you need to create large tables. \n",
    "\n",
    "The third option is to use code cells to render tables. I.e. ``data.frame`` objects will render to tables if you print them to StdOut. This way you can keep the table data in a csv and read and render it in a one-liner."
   ]
  },
  {
   "cell_type": "markdown",
   "metadata": {
    "slideshow": {
     "slide_type": "subslide"
    }
   },
   "source": [
    "### Markdown"
   ]
  },
  {
   "cell_type": "markdown",
   "metadata": {
    "slideshow": {
     "slide_type": "fragment"
    }
   },
   "source": [
    "This table:\n",
    "\n",
    "| head 1 | head 2 | head 3 |\n",
    "|--------|--------|--------|\n",
    "| cell 1 | cell 2 | cell 3 |\n",
    "| cell 4 | cell 5 | cell 6 |\n",
    "| cell 7 | cell 8 | cell 9 |\n",
    "\n",
    "can be created like:\n",
    "\n",
    "```\n",
    "| head 1 | head 2 | head 3 |\n",
    "|--------|--------|--------|\n",
    "| cell 1 | cell 2 | cell 3 |\n",
    "| cell 4 | cell 5 | cell 6 |\n",
    "| cell 7 | cell 8 | cell 9 |\n",
    "```"
   ]
  },
  {
   "cell_type": "markdown",
   "metadata": {
    "slideshow": {
     "slide_type": "subslide"
    }
   },
   "source": [
    "### HTML"
   ]
  },
  {
   "cell_type": "markdown",
   "metadata": {
    "slideshow": {
     "slide_type": "fragment"
    }
   },
   "source": [
    "The same as HTML table:\n",
    "\n",
    "<table>\n",
    "    <tr><th>head 1</th><th>head 2</th><th>head 3</th></tr>\n",
    "    <tr><td>cell 1</td><td>cell 2</td><td>cell 3</td></tr>\n",
    "    <tr><td>cell 4</td><td>cell 5</td><td>cell 6</td></tr>\n",
    "    <tr><td>cell 7</td><td>cell 8</td><td>cell 9</td></tr>\n",
    "</table>\n",
    "\n",
    "can be created like:\n",
    "\n",
    "```html\n",
    "<table>\n",
    "    <tr><th>head 1</th><th>head 2</th><th>head 3</th></tr>\n",
    "    <tr><td>cell 1</td><td>cell 2</td><td>cell 3</td></tr>\n",
    "    <tr><td>cell 4</td><td>cell 5</td><td>cell 6</td></tr>\n",
    "    <tr><td>cell 7</td><td>cell 8</td><td>cell 9</td></tr>\n",
    "</table>\n",
    "\n",
    "```"
   ]
  },
  {
   "cell_type": "markdown",
   "metadata": {
    "slideshow": {
     "slide_type": "subslide"
    }
   },
   "source": [
    "### R"
   ]
  },
  {
   "cell_type": "code",
   "execution_count": 8,
   "metadata": {
    "slideshow": {
     "slide_type": "fragment"
    }
   },
   "outputs": [
    {
     "data": {
      "text/html": [
       "<table>\n",
       "<thead><tr><th scope=col>x</th><th scope=col>y</th><th scope=col>d</th></tr></thead>\n",
       "<tbody>\n",
       "\t<tr><td>0.00000000  </td><td>0.09143467  </td><td>-0.091434666</td></tr>\n",
       "\t<tr><td>0.06346652  </td><td>0.13535489  </td><td>-0.071930972</td></tr>\n",
       "\t<tr><td>0.12693304  </td><td>0.04129533  </td><td> 0.085297119</td></tr>\n",
       "\t<tr><td>0.19039955  </td><td>0.12169554  </td><td> 0.067555701</td></tr>\n",
       "\t<tr><td>0.25386607  </td><td>0.18774865  </td><td> 0.063399342</td></tr>\n",
       "\t<tr><td>0.31733259  </td><td>0.38518954  </td><td>-0.073156093</td></tr>\n",
       "\t<tr><td>0.38079911  </td><td>0.40691284  </td><td>-0.035250381</td></tr>\n",
       "\t<tr><td>0.44426563  </td><td>0.49336156  </td><td>-0.063566653</td></tr>\n",
       "\t<tr><td>0.50773215  </td><td>0.39581733  </td><td> 0.090379410</td></tr>\n",
       "\t<tr><td>0.57119866  </td><td>0.47730092  </td><td> 0.063339899</td></tr>\n",
       "\t<tr><td>0.63466518  </td><td>0.61975339  </td><td>-0.026845459</td></tr>\n",
       "\t<tr><td>0.69813170  </td><td>0.67546105  </td><td>-0.032673444</td></tr>\n",
       "\t<tr><td>0.76159822  </td><td>0.75373678  </td><td>-0.063657768</td></tr>\n",
       "\t<tr><td>0.82506474  </td><td>0.73811095  </td><td>-0.003519236</td></tr>\n",
       "\t<tr><td>0.88853126  </td><td>0.72331066  </td><td> 0.052835801</td></tr>\n",
       "\t<tr><td>0.95199777  </td><td>0.73741998  </td><td> 0.077155973</td></tr>\n",
       "\t<tr><td>1.01546429  </td><td>0.94275007  </td><td>-0.093024641</td></tr>\n",
       "\t<tr><td>1.07893081  </td><td>0.97170014  </td><td>-0.090246776</td></tr>\n",
       "\t<tr><td>1.14239733  </td><td>1.00388597  </td><td>-0.094253973</td></tr>\n",
       "\t<tr><td>1.20586385  </td><td>0.89020271  </td><td> 0.043945150</td></tr>\n",
       "\t<tr><td>1.26933037  </td><td>0.90833692  </td><td> 0.046565324</td></tr>\n",
       "\t<tr><td>1.33279688  </td><td>0.91737069  </td><td> 0.054440880</td></tr>\n",
       "\t<tr><td>1.39626340  </td><td>1.04181682  </td><td>-0.057009066</td></tr>\n",
       "\t<tr><td>1.45972992  </td><td>0.89933297  </td><td> 0.094505499</td></tr>\n",
       "\t<tr><td>1.52319644  </td><td>1.07297985  </td><td>-0.074112509</td></tr>\n",
       "\t<tr><td>1.58666296  </td><td>0.94119649  </td><td> 0.058677635</td></tr>\n",
       "\t<tr><td>1.65012947  </td><td>1.05333352  </td><td>-0.056478745</td></tr>\n",
       "\t<tr><td>1.71359599  </td><td>1.06322640  </td><td>-0.073404960</td></tr>\n",
       "\t<tr><td>1.77706251  </td><td>0.91351554  </td><td> 0.065286910</td></tr>\n",
       "\t<tr><td>1.84052903  </td><td>1.05544275  </td><td>-0.091600592</td></tr>\n",
       "\t<tr><td>...</td><td>...</td><td>...</td></tr>\n",
       "\t<tr><td>4.442656    </td><td>-0.87190861 </td><td>-0.091933545</td></tr>\n",
       "\t<tr><td>4.506123    </td><td>-1.04735867 </td><td> 0.068556222</td></tr>\n",
       "\t<tr><td>4.569589    </td><td>-1.07118036 </td><td> 0.081358918</td></tr>\n",
       "\t<tr><td>4.633056    </td><td>-0.93714457 </td><td>-0.059710205</td></tr>\n",
       "\t<tr><td>4.696522    </td><td>-0.98140598 </td><td>-0.018468143</td></tr>\n",
       "\t<tr><td>4.759989    </td><td>-1.04568833 </td><td> 0.046820993</td></tr>\n",
       "\t<tr><td>4.823455    </td><td>-0.90121760 </td><td>-0.092620861</td></tr>\n",
       "\t<tr><td>4.886922    </td><td>-0.93734930 </td><td>-0.047458453</td></tr>\n",
       "\t<tr><td>4.950388    </td><td>-0.89079891 </td><td>-0.081012661</td></tr>\n",
       "\t<tr><td>5.013855    </td><td>-0.88996693 </td><td>-0.064935312</td></tr>\n",
       "\t<tr><td>5.077321    </td><td>-0.90717724 </td><td>-0.026970620</td></tr>\n",
       "\t<tr><td>5.140788    </td><td>-0.92617588 </td><td> 0.016543885</td></tr>\n",
       "\t<tr><td>5.204254    </td><td>-0.91289561 </td><td> 0.031442248</td></tr>\n",
       "\t<tr><td>5.267721    </td><td>-0.85652404 </td><td> 0.006798615</td></tr>\n",
       "\t<tr><td>5.331188    </td><td>-0.79278428 </td><td>-0.021791674</td></tr>\n",
       "\t<tr><td>5.394654    </td><td>-0.70760833 </td><td>-0.068538139</td></tr>\n",
       "\t<tr><td>5.458121    </td><td>-0.75768839 </td><td> 0.023096683</td></tr>\n",
       "\t<tr><td>5.521587    </td><td>-0.73951008 </td><td> 0.049431064</td></tr>\n",
       "\t<tr><td>5.585054    </td><td>-0.68370921 </td><td> 0.040921604</td></tr>\n",
       "\t<tr><td>5.648520    </td><td>-0.50082518 </td><td>-0.092082747</td></tr>\n",
       "\t<tr><td>5.711987    </td><td>-0.51450901 </td><td>-0.026131812</td></tr>\n",
       "\t<tr><td>5.775453    </td><td>-0.52912831 </td><td> 0.042931573</td></tr>\n",
       "\t<tr><td>5.838920    </td><td>-0.41999036 </td><td>-0.009804554</td></tr>\n",
       "\t<tr><td>5.902386    </td><td>-0.34520538 </td><td>-0.026457075</td></tr>\n",
       "\t<tr><td>5.965853    </td><td>-0.25465886 </td><td>-0.057374587</td></tr>\n",
       "\t<tr><td>6.029319    </td><td>-0.18243193 </td><td>-0.068716055</td></tr>\n",
       "\t<tr><td>6.092786    </td><td>-0.13606642 </td><td>-0.053184826</td></tr>\n",
       "\t<tr><td>6.156252    </td><td>-0.13037930 </td><td> 0.003786850</td></tr>\n",
       "\t<tr><td>6.219719    </td><td> 0.03502517 </td><td>-0.098449087</td></tr>\n",
       "\t<tr><td>6.283185    </td><td>-0.09186154 </td><td> 0.091861536</td></tr>\n",
       "</tbody>\n",
       "</table>\n"
      ],
      "text/latex": [
       "\\begin{tabular}{r|lll}\n",
       " x & y & d\\\\\n",
       "\\hline\n",
       "\t 0.00000000   & 0.09143467   & -0.091434666\\\\\n",
       "\t 0.06346652   & 0.13535489   & -0.071930972\\\\\n",
       "\t 0.12693304   & 0.04129533   &  0.085297119\\\\\n",
       "\t 0.19039955   & 0.12169554   &  0.067555701\\\\\n",
       "\t 0.25386607   & 0.18774865   &  0.063399342\\\\\n",
       "\t 0.31733259   & 0.38518954   & -0.073156093\\\\\n",
       "\t 0.38079911   & 0.40691284   & -0.035250381\\\\\n",
       "\t 0.44426563   & 0.49336156   & -0.063566653\\\\\n",
       "\t 0.50773215   & 0.39581733   &  0.090379410\\\\\n",
       "\t 0.57119866   & 0.47730092   &  0.063339899\\\\\n",
       "\t 0.63466518   & 0.61975339   & -0.026845459\\\\\n",
       "\t 0.69813170   & 0.67546105   & -0.032673444\\\\\n",
       "\t 0.76159822   & 0.75373678   & -0.063657768\\\\\n",
       "\t 0.82506474   & 0.73811095   & -0.003519236\\\\\n",
       "\t 0.88853126   & 0.72331066   &  0.052835801\\\\\n",
       "\t 0.95199777   & 0.73741998   &  0.077155973\\\\\n",
       "\t 1.01546429   & 0.94275007   & -0.093024641\\\\\n",
       "\t 1.07893081   & 0.97170014   & -0.090246776\\\\\n",
       "\t 1.14239733   & 1.00388597   & -0.094253973\\\\\n",
       "\t 1.20586385   & 0.89020271   &  0.043945150\\\\\n",
       "\t 1.26933037   & 0.90833692   &  0.046565324\\\\\n",
       "\t 1.33279688   & 0.91737069   &  0.054440880\\\\\n",
       "\t 1.39626340   & 1.04181682   & -0.057009066\\\\\n",
       "\t 1.45972992   & 0.89933297   &  0.094505499\\\\\n",
       "\t 1.52319644   & 1.07297985   & -0.074112509\\\\\n",
       "\t 1.58666296   & 0.94119649   &  0.058677635\\\\\n",
       "\t 1.65012947   & 1.05333352   & -0.056478745\\\\\n",
       "\t 1.71359599   & 1.06322640   & -0.073404960\\\\\n",
       "\t 1.77706251   & 0.91351554   &  0.065286910\\\\\n",
       "\t 1.84052903   & 1.05544275   & -0.091600592\\\\\n",
       "\t ... & ... & ...\\\\\n",
       "\t 4.442656     & -0.87190861  & -0.091933545\\\\\n",
       "\t 4.506123     & -1.04735867  &  0.068556222\\\\\n",
       "\t 4.569589     & -1.07118036  &  0.081358918\\\\\n",
       "\t 4.633056     & -0.93714457  & -0.059710205\\\\\n",
       "\t 4.696522     & -0.98140598  & -0.018468143\\\\\n",
       "\t 4.759989     & -1.04568833  &  0.046820993\\\\\n",
       "\t 4.823455     & -0.90121760  & -0.092620861\\\\\n",
       "\t 4.886922     & -0.93734930  & -0.047458453\\\\\n",
       "\t 4.950388     & -0.89079891  & -0.081012661\\\\\n",
       "\t 5.013855     & -0.88996693  & -0.064935312\\\\\n",
       "\t 5.077321     & -0.90717724  & -0.026970620\\\\\n",
       "\t 5.140788     & -0.92617588  &  0.016543885\\\\\n",
       "\t 5.204254     & -0.91289561  &  0.031442248\\\\\n",
       "\t 5.267721     & -0.85652404  &  0.006798615\\\\\n",
       "\t 5.331188     & -0.79278428  & -0.021791674\\\\\n",
       "\t 5.394654     & -0.70760833  & -0.068538139\\\\\n",
       "\t 5.458121     & -0.75768839  &  0.023096683\\\\\n",
       "\t 5.521587     & -0.73951008  &  0.049431064\\\\\n",
       "\t 5.585054     & -0.68370921  &  0.040921604\\\\\n",
       "\t 5.648520     & -0.50082518  & -0.092082747\\\\\n",
       "\t 5.711987     & -0.51450901  & -0.026131812\\\\\n",
       "\t 5.775453     & -0.52912831  &  0.042931573\\\\\n",
       "\t 5.838920     & -0.41999036  & -0.009804554\\\\\n",
       "\t 5.902386     & -0.34520538  & -0.026457075\\\\\n",
       "\t 5.965853     & -0.25465886  & -0.057374587\\\\\n",
       "\t 6.029319     & -0.18243193  & -0.068716055\\\\\n",
       "\t 6.092786     & -0.13606642  & -0.053184826\\\\\n",
       "\t 6.156252     & -0.13037930  &  0.003786850\\\\\n",
       "\t 6.219719     &  0.03502517  & -0.098449087\\\\\n",
       "\t 6.283185     & -0.09186154  &  0.091861536\\\\\n",
       "\\end{tabular}\n"
      ],
      "text/markdown": [
       "\n",
       "| x | y | d |\n",
       "|---|---|---|\n",
       "| 0.00000000   | 0.09143467   | -0.091434666 |\n",
       "| 0.06346652   | 0.13535489   | -0.071930972 |\n",
       "| 0.12693304   | 0.04129533   |  0.085297119 |\n",
       "| 0.19039955   | 0.12169554   |  0.067555701 |\n",
       "| 0.25386607   | 0.18774865   |  0.063399342 |\n",
       "| 0.31733259   | 0.38518954   | -0.073156093 |\n",
       "| 0.38079911   | 0.40691284   | -0.035250381 |\n",
       "| 0.44426563   | 0.49336156   | -0.063566653 |\n",
       "| 0.50773215   | 0.39581733   |  0.090379410 |\n",
       "| 0.57119866   | 0.47730092   |  0.063339899 |\n",
       "| 0.63466518   | 0.61975339   | -0.026845459 |\n",
       "| 0.69813170   | 0.67546105   | -0.032673444 |\n",
       "| 0.76159822   | 0.75373678   | -0.063657768 |\n",
       "| 0.82506474   | 0.73811095   | -0.003519236 |\n",
       "| 0.88853126   | 0.72331066   |  0.052835801 |\n",
       "| 0.95199777   | 0.73741998   |  0.077155973 |\n",
       "| 1.01546429   | 0.94275007   | -0.093024641 |\n",
       "| 1.07893081   | 0.97170014   | -0.090246776 |\n",
       "| 1.14239733   | 1.00388597   | -0.094253973 |\n",
       "| 1.20586385   | 0.89020271   |  0.043945150 |\n",
       "| 1.26933037   | 0.90833692   |  0.046565324 |\n",
       "| 1.33279688   | 0.91737069   |  0.054440880 |\n",
       "| 1.39626340   | 1.04181682   | -0.057009066 |\n",
       "| 1.45972992   | 0.89933297   |  0.094505499 |\n",
       "| 1.52319644   | 1.07297985   | -0.074112509 |\n",
       "| 1.58666296   | 0.94119649   |  0.058677635 |\n",
       "| 1.65012947   | 1.05333352   | -0.056478745 |\n",
       "| 1.71359599   | 1.06322640   | -0.073404960 |\n",
       "| 1.77706251   | 0.91351554   |  0.065286910 |\n",
       "| 1.84052903   | 1.05544275   | -0.091600592 |\n",
       "| ... | ... | ... |\n",
       "| 4.442656     | -0.87190861  | -0.091933545 |\n",
       "| 4.506123     | -1.04735867  |  0.068556222 |\n",
       "| 4.569589     | -1.07118036  |  0.081358918 |\n",
       "| 4.633056     | -0.93714457  | -0.059710205 |\n",
       "| 4.696522     | -0.98140598  | -0.018468143 |\n",
       "| 4.759989     | -1.04568833  |  0.046820993 |\n",
       "| 4.823455     | -0.90121760  | -0.092620861 |\n",
       "| 4.886922     | -0.93734930  | -0.047458453 |\n",
       "| 4.950388     | -0.89079891  | -0.081012661 |\n",
       "| 5.013855     | -0.88996693  | -0.064935312 |\n",
       "| 5.077321     | -0.90717724  | -0.026970620 |\n",
       "| 5.140788     | -0.92617588  |  0.016543885 |\n",
       "| 5.204254     | -0.91289561  |  0.031442248 |\n",
       "| 5.267721     | -0.85652404  |  0.006798615 |\n",
       "| 5.331188     | -0.79278428  | -0.021791674 |\n",
       "| 5.394654     | -0.70760833  | -0.068538139 |\n",
       "| 5.458121     | -0.75768839  |  0.023096683 |\n",
       "| 5.521587     | -0.73951008  |  0.049431064 |\n",
       "| 5.585054     | -0.68370921  |  0.040921604 |\n",
       "| 5.648520     | -0.50082518  | -0.092082747 |\n",
       "| 5.711987     | -0.51450901  | -0.026131812 |\n",
       "| 5.775453     | -0.52912831  |  0.042931573 |\n",
       "| 5.838920     | -0.41999036  | -0.009804554 |\n",
       "| 5.902386     | -0.34520538  | -0.026457075 |\n",
       "| 5.965853     | -0.25465886  | -0.057374587 |\n",
       "| 6.029319     | -0.18243193  | -0.068716055 |\n",
       "| 6.092786     | -0.13606642  | -0.053184826 |\n",
       "| 6.156252     | -0.13037930  |  0.003786850 |\n",
       "| 6.219719     |  0.03502517  | -0.098449087 |\n",
       "| 6.283185     | -0.09186154  |  0.091861536 |\n",
       "\n"
      ],
      "text/plain": [
       "    x          y           d           \n",
       "1   0.00000000 0.09143467  -0.091434666\n",
       "2   0.06346652 0.13535489  -0.071930972\n",
       "3   0.12693304 0.04129533   0.085297119\n",
       "4   0.19039955 0.12169554   0.067555701\n",
       "5   0.25386607 0.18774865   0.063399342\n",
       "6   0.31733259 0.38518954  -0.073156093\n",
       "7   0.38079911 0.40691284  -0.035250381\n",
       "8   0.44426563 0.49336156  -0.063566653\n",
       "9   0.50773215 0.39581733   0.090379410\n",
       "10  0.57119866 0.47730092   0.063339899\n",
       "11  0.63466518 0.61975339  -0.026845459\n",
       "12  0.69813170 0.67546105  -0.032673444\n",
       "13  0.76159822 0.75373678  -0.063657768\n",
       "14  0.82506474 0.73811095  -0.003519236\n",
       "15  0.88853126 0.72331066   0.052835801\n",
       "16  0.95199777 0.73741998   0.077155973\n",
       "17  1.01546429 0.94275007  -0.093024641\n",
       "18  1.07893081 0.97170014  -0.090246776\n",
       "19  1.14239733 1.00388597  -0.094253973\n",
       "20  1.20586385 0.89020271   0.043945150\n",
       "21  1.26933037 0.90833692   0.046565324\n",
       "22  1.33279688 0.91737069   0.054440880\n",
       "23  1.39626340 1.04181682  -0.057009066\n",
       "24  1.45972992 0.89933297   0.094505499\n",
       "25  1.52319644 1.07297985  -0.074112509\n",
       "26  1.58666296 0.94119649   0.058677635\n",
       "27  1.65012947 1.05333352  -0.056478745\n",
       "28  1.71359599 1.06322640  -0.073404960\n",
       "29  1.77706251 0.91351554   0.065286910\n",
       "30  1.84052903 1.05544275  -0.091600592\n",
       "... ...        ...         ...         \n",
       "71  4.442656   -0.87190861 -0.091933545\n",
       "72  4.506123   -1.04735867  0.068556222\n",
       "73  4.569589   -1.07118036  0.081358918\n",
       "74  4.633056   -0.93714457 -0.059710205\n",
       "75  4.696522   -0.98140598 -0.018468143\n",
       "76  4.759989   -1.04568833  0.046820993\n",
       "77  4.823455   -0.90121760 -0.092620861\n",
       "78  4.886922   -0.93734930 -0.047458453\n",
       "79  4.950388   -0.89079891 -0.081012661\n",
       "80  5.013855   -0.88996693 -0.064935312\n",
       "81  5.077321   -0.90717724 -0.026970620\n",
       "82  5.140788   -0.92617588  0.016543885\n",
       "83  5.204254   -0.91289561  0.031442248\n",
       "84  5.267721   -0.85652404  0.006798615\n",
       "85  5.331188   -0.79278428 -0.021791674\n",
       "86  5.394654   -0.70760833 -0.068538139\n",
       "87  5.458121   -0.75768839  0.023096683\n",
       "88  5.521587   -0.73951008  0.049431064\n",
       "89  5.585054   -0.68370921  0.040921604\n",
       "90  5.648520   -0.50082518 -0.092082747\n",
       "91  5.711987   -0.51450901 -0.026131812\n",
       "92  5.775453   -0.52912831  0.042931573\n",
       "93  5.838920   -0.41999036 -0.009804554\n",
       "94  5.902386   -0.34520538 -0.026457075\n",
       "95  5.965853   -0.25465886 -0.057374587\n",
       "96  6.029319   -0.18243193 -0.068716055\n",
       "97  6.092786   -0.13606642 -0.053184826\n",
       "98  6.156252   -0.13037930  0.003786850\n",
       "99  6.219719    0.03502517 -0.098449087\n",
       "100 6.283185   -0.09186154  0.091861536"
      ]
     },
     "metadata": {},
     "output_type": "display_data"
    }
   ],
   "source": [
    "df"
   ]
  }
 ],
 "metadata": {
  "celltoolbar": "Slideshow",
  "kernelspec": {
   "display_name": "R",
   "language": "R",
   "name": "ir"
  },
  "language_info": {
   "codemirror_mode": "r",
   "file_extension": ".r",
   "mimetype": "text/x-r-source",
   "name": "R",
   "pygments_lexer": "r",
   "version": "3.6.1"
  }
 },
 "nbformat": 4,
 "nbformat_minor": 4
}
